{
  "nbformat": 4,
  "nbformat_minor": 0,
  "metadata": {
    "colab": {
      "name": "Copy of LinearRegression.ipynb",
      "provenance": []
    },
    "kernelspec": {
      "name": "python3",
      "display_name": "Python 3"
    },
    "language_info": {
      "name": "python"
    }
  },
  "cells": [
    {
      "cell_type": "code",
      "source": [
        "import pandas as pd\n",
        "import numpy as np\n",
        "import matplotlib.pyplot as plt"
      ],
      "metadata": {
        "id": "ceQM4vzts28f"
      },
      "execution_count": null,
      "outputs": []
    },
    {
      "cell_type": "code",
      "source": [
        "def load_data(url):\n",
        "  df = pd.read_csv(url)\n",
        "  df = df.drop(columns=['longitude','latitude'])\n",
        "  data = np.array(df, dtype=float)\n",
        "  normalize(data)\n",
        "  return data[:,:6], data[:, -1]"
      ],
      "metadata": {
        "id": "WQqpvN0cyjjb"
      },
      "execution_count": null,
      "outputs": []
    },
    {
      "cell_type": "code",
      "source": [
        "mu = []\n",
        "std = []\n",
        "def normalize(data):\n",
        "  for i in range(0,data.shape[1]-1):\n",
        "    data[:,i] = ((data[:,i] - np.mean(data[:,i]))/np.std(data[:, i]))\n",
        "    mu.append(np.mean(data[:,i]))\n",
        "    std.append(np.std(data[:, i]))"
      ],
      "metadata": {
        "id": "eXAkV18ozYtj"
      },
      "execution_count": null,
      "outputs": []
    },
    {
      "cell_type": "code",
      "source": [
        "def h(x,theta):\n",
        "\treturn np.matmul(x, theta)"
      ],
      "metadata": {
        "id": "aiz5yDot0GFU"
      },
      "execution_count": null,
      "outputs": []
    },
    {
      "cell_type": "code",
      "source": [
        "def cost_function(x, y, theta):\n",
        "\treturn ((h(x, theta)-y).T@(h(x, theta)-y))/(2*y.shape[0])"
      ],
      "metadata": {
        "id": "iIVd6MpE0O_z"
      },
      "execution_count": null,
      "outputs": []
    },
    {
      "cell_type": "code",
      "source": [
        "def gradient_descent(x, y, theta, learning_rate=0.1, num_epochs=30):\n",
        "\tm = x.shape[0]\n",
        "\tJ_all = []\n",
        "\t\n",
        "\tfor _ in range(num_epochs):\n",
        "\t\th_x = h(x, theta)\n",
        "\t\tcost_ = (1/m)*(x.T@(h_x - y))\n",
        "\t\ttheta = theta - (learning_rate)*cost_\n",
        "\t\tJ_all.append(cost_function(x, y, theta))\n",
        "\n",
        "\treturn theta, J_all \n"
      ],
      "metadata": {
        "id": "6cvHZ0ip063R"
      },
      "execution_count": null,
      "outputs": []
    },
    {
      "cell_type": "code",
      "source": [
        "def plot_cost(J_all, num_epochs):\n",
        "\tplt.xlabel('Epochs')\n",
        "\tplt.ylabel('Cost')\n",
        "\tplt.plot(num_epochs, J_all, 'm', linewidth = \"5\")\n",
        "\tplt.show()"
      ],
      "metadata": {
        "id": "VsPqKVu519dm"
      },
      "execution_count": null,
      "outputs": []
    },
    {
      "cell_type": "code",
      "source": [
        "def compare(y1,y2):\n",
        "  x = np.arange(100)\n",
        "  plt.plot(x, y1[:100,:], 'ro')\n",
        "  plt.plot(x, y2[:100,:], 'bo')"
      ],
      "metadata": {
        "id": "iMTKKfem7-5p"
      },
      "execution_count": null,
      "outputs": []
    },
    {
      "cell_type": "code",
      "source": [
        "def main():\n",
        "  x,y = load_data('https://raw.githubusercontent.com/virajkapurkar/Machine-Learning/main/data/california_housing_train.csv')\n",
        "  y = np.reshape(y, (17000,1))\n",
        "  x = np.hstack((np.ones((x.shape[0],1)), x))\n",
        "  theta = np.zeros((x.shape[1], 1))\n",
        "  learning_rate = 0.1\n",
        "  num_epochs = 100\n",
        "  theta, J_all = gradient_descent(x, y, theta, learning_rate, num_epochs)\n",
        "  J = cost_function(x, y, theta)\n",
        "  print(\"Cost: \", J)\n",
        "  print(\"Parameters: \", theta)\n",
        "\n",
        "  #for testing and plotting cost \n",
        "  n_epochs = []\n",
        "  jplot = []\n",
        "  count = 0\n",
        "  for i in J_all:\n",
        "    jplot.append(i[0][0])\n",
        "    n_epochs.append(count)\n",
        "    count += 1\n",
        "  jplot = np.array(jplot)\n",
        "  n_epochs = np.array(n_epochs)\n",
        "  plot_cost(jplot, n_epochs)\n",
        "\n",
        "  xtest, ytest = load_data('https://raw.githubusercontent.com/virajkapurkar/Machine-Learning/main/data/california_housing_test.csv')\n",
        "  ytest = np.reshape(ytest, (3000,1))\n",
        "  xtest = np.hstack((np.ones((xtest.shape[0],1)), xtest))\n",
        "  ypred = h(xtest, theta)\n",
        "  compare(ytest, ypred)"
      ],
      "metadata": {
        "id": "eErQrvNv3T5p"
      },
      "execution_count": null,
      "outputs": []
    },
    {
      "cell_type": "code",
      "execution_count": null,
      "metadata": {
        "colab": {
          "base_uri": "https://localhost:8080/",
          "height": 681
        },
        "id": "Jl-7SSkorh0V",
        "outputId": "2be7b4ab-ca60-45f6-ebe6-d08e1fe407c8"
      },
      "outputs": [
        {
          "output_type": "stream",
          "name": "stdout",
          "text": [
            "Cost:  [[2.95729888e+09]]\n",
            "Parameters:  [[207295.40615072]\n",
            " [ 25115.18122605]\n",
            " [-10211.86954387]\n",
            " [ 23125.62105342]\n",
            " [-29712.16427273]\n",
            " [ 26066.81663772]\n",
            " [ 84836.83580694]]\n"
          ]
        },
        {
          "output_type": "display_data",
          "data": {
            "text/plain": [
              "<Figure size 432x288 with 1 Axes>"
            ],
            "image/png": "[encoded data removed]"
          },
          "metadata": {
            "needs_background": "light"
          }
        },
        {
          "output_type": "display_data",
          "data": {
            "text/plain": [
              "<Figure size 432x288 with 1 Axes>"
            ],
            "image/png": "[encoded data removed]"
          },
          "metadata": {
            "needs_background": "light"
          }
        }
      ],
      "source": [
        "main()"
      ]
    }
  ]
}