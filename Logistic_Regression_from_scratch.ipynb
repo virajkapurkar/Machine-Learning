{
  "nbformat": 4,
  "nbformat_minor": 0,
  "metadata": {
    "colab": {
      "name": "Logistic Regression from scratch.ipynb",
      "provenance": []
    },
    "kernelspec": {
      "name": "python3",
      "display_name": "Python 3"
    },
    "language_info": {
      "name": "python"
    }
  },
  "cells": [
    {
      "cell_type": "code",
      "source": [
        "# imports\n",
        "import numpy as np\n",
        "import matplotlib.pyplot as plt\n",
        "import pandas as pd\n",
        "from sklearn.linear_model import LogisticRegression\n",
        "from sklearn.metrics import accuracy_score\n",
        "from scipy.optimize import fmin_tnc"
      ],
      "metadata": {
        "id": "zmop0to82ELN"
      },
      "execution_count": 274,
      "outputs": []
    },
    {
      "cell_type": "code",
      "source": [
        "def sigmoid(x):\n",
        "  x = np.array(x, dtype = float)\n",
        "  # Activation function used to map any real value between 0 and 1\n",
        "  return 1 / (1 + np.exp(-x))"
      ],
      "metadata": {
        "id": "4-dcXA5d2Er0"
      },
      "execution_count": 275,
      "outputs": []
    },
    {
      "cell_type": "code",
      "source": [
        "def net_input(theta, x):\n",
        "  # Computes the weighted sum of inputs Similar to Linear Regression\n",
        "  return np.dot(x, theta)"
      ],
      "metadata": {
        "id": "w8xo3_-72REj"
      },
      "execution_count": 276,
      "outputs": []
    },
    {
      "cell_type": "code",
      "source": [
        "def hypothesis(theta, x):\n",
        "  # Calculates the probability that an instance belongs to a particular class\n",
        "  return sigmoid(net_input(theta, x))"
      ],
      "metadata": {
        "id": "KZtL99XE2W8W"
      },
      "execution_count": 277,
      "outputs": []
    },
    {
      "cell_type": "code",
      "source": [
        "def cost_function(theta, x, y):\n",
        "  # Computes the cost function for all the training samples\n",
        "  m = x.shape[0]\n",
        "  total_cost = -(1 / m) * np.sum(y * np.log(hypothesis(theta, x)) + (1 - y) * np.log(1 - hypothesis(theta, x)))\n",
        "  return total_cost"
      ],
      "metadata": {
        "id": "8s4UYqwT2fVc"
      },
      "execution_count": 278,
      "outputs": []
    },
    {
      "cell_type": "code",
      "source": [
        "def gradient(theta, x, y):\n",
        "  # Computes the gradient of the cost function at the point theta\n",
        "  m = x.shape[0]\n",
        "  return (1 / m) * np.dot(x.T, sigmoid(net_input(theta, x)) - y)"
      ],
      "metadata": {
        "id": "aS_ypYq72xup"
      },
      "execution_count": 279,
      "outputs": []
    },
    {
      "cell_type": "code",
      "source": [
        "def fit(x, y, theta):\n",
        "  \"\"\"trains the model from the training data\n",
        "  Uses the fmin_tnc function that is used to find the minimum for any function\n",
        "  It takes arguments as\n",
        "      1) func : function to minimize\n",
        "      2) x0 : initial values for the parameters\n",
        "      3) fprime: gradient for the function defined by 'func'\n",
        "      4) args: arguments passed to the function\n",
        "  Parameters\n",
        "  ----------\n",
        "  x: array-like, shape = [n_samples, n_features]\n",
        "      Training samples\n",
        "  y: array-like, shape = [n_samples, n_target_values]\n",
        "      Target classes\n",
        "  theta: initial weights\n",
        "  Returns optimized weights\n",
        "  -------\n",
        "  \"\"\"\n",
        "\n",
        "  theta_opt = fmin_tnc(func=cost_function, x0=theta, fprime=gradient,\n",
        "                          args=(x, y.flatten()))\n",
        "  return theta_opt[0]"
      ],
      "metadata": {
        "id": "U2uk1AYT3CFe"
      },
      "execution_count": 280,
      "outputs": []
    },
    {
      "cell_type": "code",
      "source": [
        "def predict(x, theta):\n",
        "  \"\"\" Predicts the class labels\n",
        "  Parameters\n",
        "  ----------\n",
        "  x: array-like, shape = [n_samples, n_features]\n",
        "      Test samples\n",
        "  Returns\n",
        "  -------\n",
        "  predicted class labels\n",
        "  \"\"\"\n",
        "  return hypothesis(theta, x)"
      ],
      "metadata": {
        "id": "W1PVSRJO3y9H"
      },
      "execution_count": 281,
      "outputs": []
    },
    {
      "cell_type": "code",
      "source": [
        "def accuracy(x, theta, actual_classes, probab_threshold=0.5):\n",
        "  \"\"\"Computes the accuracy of the classifier\n",
        "  Parameters\n",
        "  ----------\n",
        "  x: array-like, shape = [n_samples, n_features]\n",
        "      Training samples\n",
        "  actual_classes : class labels from the training data set\n",
        "  probab_threshold: threshold/cutoff to categorize the samples into different classes\n",
        "  Returns\n",
        "  -------\n",
        "  accuracy: accuracy of the model\n",
        "  \"\"\"\n",
        "  predicted_classes = (predict(x, theta) >= probab_threshold).astype(int)\n",
        "  predicted_classes = predicted_classes.flatten()\n",
        "  accuracy = np.mean(predicted_classes == actual_classes)\n",
        "  return accuracy * 100"
      ],
      "metadata": {
        "id": "Y9G1PRME4OP7"
      },
      "execution_count": 282,
      "outputs": []
    },
    {
      "cell_type": "code",
      "source": [
        "def load_data(path, header):\n",
        "  marks_df = pd.read_csv(path, header=header)\n",
        "  return marks_df"
      ],
      "metadata": {
        "id": "c2FnXkyE4gd1"
      },
      "execution_count": 283,
      "outputs": []
    },
    {
      "cell_type": "code",
      "source": [
        "data = load_data(\"https://raw.githubusercontent.com/virajkapurkar/Machine-Learning/main/data/marks.txt\", None)\n",
        "\n",
        "# X = feature values, all the columns except the last column\n",
        "X = data.iloc[:, :-1]\n",
        "\n",
        "# y = target values, last column of the data frame\n",
        "y = data.iloc[:, -1]\n",
        "\n",
        "# filter out the applicants that got admitted\n",
        "admitted = data.loc[y == 1]\n",
        "\n",
        "# filter out the applicants that din't get admission\n",
        "not_admitted = data.loc[y == 0]\n",
        "\n",
        "# plots\n",
        "plt.scatter(admitted.iloc[:, 0], admitted.iloc[:, 1], s=10, label='Admitted')\n",
        "plt.scatter(not_admitted.iloc[:, 0], not_admitted.iloc[:, 1], s=10,label='Not Admitted')\n",
        "\n",
        "# preparing the data for building the model\n",
        "X = np.c_[np.ones((X.shape[0], 1)), X]\n",
        "y = y[:, np.newaxis]\n",
        "theta = np.zeros((X.shape[1], 1))\n",
        "\n",
        "# Logistic Regression from scratch using Gradient Descent\n",
        "theta_opt = fit(X, y, theta)\n",
        "theta_opt = np.reshape(theta_opt, (theta_opt.shape[0],1))\n",
        "accuracy = accuracy(X, theta_opt, y.flatten())\n",
        "print(\"The accuracy of the model is {}\".format(accuracy))\n",
        "print(\"The model parameters using Gradient descent\")\n",
        "print(\"\\n\")\n",
        "print(theta_opt)\n",
        "\n",
        "# plotting the decision boundary\n",
        "# As there are two features\n",
        "# wo + w1x1 + w2x2 = 0\n",
        "# x2 = - (wo + w1x1)/(w2)\n",
        "\n",
        "x_values = [np.min(X[:, 1] - 2), np.max(X[:, 2] + 2)]\n",
        "x_values = np.reshape(x_values, (1,2))\n",
        "\n",
        "y_values = - (theta_opt[0] + np.dot(np.reshape(theta_opt[1], (1,1)), x_values)) / theta_opt[2]\n",
        "\n",
        "plt.plot(x_values, y_values, label='Decision Boundary')\n",
        "plt.xlabel('Marks in 1st Exam')\n",
        "plt.ylabel('Marks in 2nd Exam')\n",
        "plt.legend()\n",
        "plt.show()\n",
        "\n",
        "# Using scikit-learn\n",
        "model = LogisticRegression()\n",
        "model.fit(X, y)\n",
        "parameters = model.coef_\n",
        "predicted_classes = model.predict(X)\n",
        "accuracy = accuracy_score(y.flatten(),predicted_classes)\n",
        "print('The accuracy score using scikit-learn is {}'.format(accuracy))\n",
        "print(\"The model parameters using scikit learn\")\n",
        "print(parameters)"
      ],
      "metadata": {
        "colab": {
          "base_uri": "https://localhost:8080/",
          "height": 531
        },
        "id": "4IE9jBfX4wFu",
        "outputId": "445f4324-4a53-429a-b214-d2a3fbd19e81"
      },
      "execution_count": 284,
      "outputs": [
        {
          "output_type": "stream",
          "name": "stdout",
          "text": [
            "The accuracy of the model is 89.0\n",
            "The model parameters using Gradient descent\n",
            "\n",
            "\n",
            "[[-25.16131857]\n",
            " [  0.20623159]\n",
            " [  0.20147149]]\n"
          ]
        },
        {
          "output_type": "stream",
          "name": "stderr",
          "text": [
            "/usr/local/lib/python3.7/dist-packages/ipykernel_launcher.py:21: FutureWarning: Support for multi-dimensional indexing (e.g. `obj[:, None]`) is deprecated and will be removed in a future version.  Convert to a numpy array before indexing instead.\n"
          ]
        },
        {
          "output_type": "display_data",
          "data": {
            "text/plain": [
              "<Figure size 432x288 with 1 Axes>"
            ],
            "image/png": "[encoded data removed]"
          },
          "metadata": {
            "needs_background": "light"
          }
        },
        {
          "output_type": "stream",
          "name": "stderr",
          "text": [
            "/usr/local/lib/python3.7/dist-packages/sklearn/utils/validation.py:993: DataConversionWarning: A column-vector y was passed when a 1d array was expected. Please change the shape of y to (n_samples, ), for example using ravel().\n",
            "  y = column_or_1d(y, warn=True)\n"
          ]
        },
        {
          "output_type": "stream",
          "name": "stdout",
          "text": [
            "The accuracy score using scikit-learn is 0.89\n",
            "The model parameters using scikit learn\n",
            "[[-4.19885866e-08  2.05354461e-01  2.00583554e-01]]\n"
          ]
        }
      ]
    }
  ]
}